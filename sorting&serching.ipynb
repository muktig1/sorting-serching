{
 "cells": [
  {
   "cell_type": "code",
   "execution_count": null,
   "id": "f5738e3a-bc4c-40a9-bc2a-a15cf0b18382",
   "metadata": {},
   "outputs": [],
   "source": [
    "1.Intersection of Two Sorted Arrays\n",
    "Write a Python program to find the intersection of two sorted arrays.\n",
    "Input:\n",
    "A = [1, 3, 5, 7, 9]\n",
    "B = [2, 4, 5, 8]\n",
    "Output:\n",
    "Intersection: [5]"
   ]
  },
  {
   "cell_type": "code",
   "execution_count": 1,
   "id": "b146234f-157c-4056-8ded-3677a9b0f81d",
   "metadata": {
    "tags": []
   },
   "outputs": [
    {
     "name": "stdout",
     "output_type": "stream",
     "text": [
      "Input Arrays:\n",
      "A = [1, 3, 5, 7, 9]\n",
      "B = [2, 4, 5, 8]\n",
      "Intersection: [5]\n"
     ]
    }
   ],
   "source": [
    "def find_intersection(array1, array2):\n",
    "    intersection = []\n",
    "    i, j = 0, 0\n",
    "\n",
    "    while i < len(array1) and j < len(array2):\n",
    "        if array1[i] == array2[j]:\n",
    "            intersection.append(array1[i])\n",
    "            i += 1\n",
    "            j += 1\n",
    "        elif array1[i] < array2[j]:\n",
    "            i += 1\n",
    "        else:\n",
    "            j += 1\n",
    "\n",
    "    return intersection\n",
    "\n",
    "# Example input arrays\n",
    "A = [1, 3, 5, 7, 9]\n",
    "B = [2, 4, 5, 8]\n",
    "\n",
    "# Find and print the intersection\n",
    "intersection_result = find_intersection(A, B)\n",
    "print(\"Input Arrays:\")\n",
    "print(\"A =\", A)\n",
    "print(\"B =\", B)\n",
    "print(\"Intersection:\", intersection_result)\n"
   ]
  },
  {
   "cell_type": "code",
   "execution_count": null,
   "id": "9319ebd1-b542-4c91-94c6-cf31ef627245",
   "metadata": {},
   "outputs": [],
   "source": [
    "#2 Find the Kth Smallest Element\n",
    "Write a Python function to find the kth smallest element in an unsorted list.\n",
    "Input:\n",
    "[12, 3, 1, 7, 8, 20], k = 3\n",
    "Output:\n",
    "The 3rd smallest element is 7"
   ]
  },
  {
   "cell_type": "code",
   "execution_count": 2,
   "id": "914552e1-927c-4aeb-90a7-85c2773b433d",
   "metadata": {
    "tags": []
   },
   "outputs": [
    {
     "name": "stdout",
     "output_type": "stream",
     "text": [
      "The 3th smallest element is 7\n"
     ]
    }
   ],
   "source": [
    "def kth_smallest_element(nums, k):\n",
    "    sorted_nums = sorted(nums)\n",
    "    \n",
    "    if k > 0 and k <= len(sorted_nums):\n",
    "        kth_smallest = sorted_nums[k - 1]\n",
    "        print(f\"The {k}th smallest element is {kth_smallest}\")\n",
    "    else:\n",
    "        print(\"Invalid value of k\")\n",
    "\n",
    "# Example input\n",
    "numbers = [12, 3, 1, 7, 8, 20]\n",
    "k_value = 3\n",
    "\n",
    "# Find and print the kth smallest element\n",
    "kth_smallest_element(numbers, k_value)\n"
   ]
  },
  {
   "cell_type": "code",
   "execution_count": null,
   "id": "9e594b24-db48-4894-920c-0dffdb26d768",
   "metadata": {},
   "outputs": [],
   "source": [
    "#3Binary Search in a Rotated Sorted Array\n",
    "Implement a Python program to perform a binary search on a rotated sorted array.\n",
    "Input:\n",
    "[4, 5, 6, 7, 8, 9, 1, 2, 3], 6\n",
    "Output:\n",
    "Element 6 found at index 2"
   ]
  },
  {
   "cell_type": "code",
   "execution_count": 3,
   "id": "b29d0855-f69e-44f9-990a-4afe805fb09d",
   "metadata": {
    "tags": []
   },
   "outputs": [
    {
     "name": "stdout",
     "output_type": "stream",
     "text": [
      "Element 6 found at index 2\n"
     ]
    }
   ],
   "source": [
    "def search_rotated_array(nums, target):\n",
    "    low, high = 0, len(nums) - 1\n",
    "\n",
    "    while low <= high:\n",
    "        mid = (low + high) // 2\n",
    "\n",
    "        if nums[mid] == target:\n",
    "            return mid\n",
    "\n",
    "        # Check if the left half is sorted\n",
    "        if nums[low] <= nums[mid]:\n",
    "            if nums[low] <= target < nums[mid]:\n",
    "                high = mid - 1\n",
    "            else:\n",
    "                low = mid + 1\n",
    "        # Check if the right half is sorted\n",
    "        else:\n",
    "            if nums[mid] < target <= nums[high]:\n",
    "                low = mid + 1\n",
    "            else:\n",
    "                high = mid - 1\n",
    "\n",
    "    return -1  # Element not found\n",
    "\n",
    "# Example input\n",
    "rotated_array = [4, 5, 6, 7, 8, 9, 1, 2, 3]\n",
    "target_element = 6\n",
    "\n",
    "# Perform binary search on the rotated array\n",
    "result_index = search_rotated_array(rotated_array, target_element)\n",
    "\n",
    "# Display the result\n",
    "if result_index != -1:\n",
    "    print(f\"Element {target_element} found at index {result_index}\")\n",
    "else:\n",
    "    print(f\"Element {target_element} not found in the rotated array\")\n",
    "\n",
    "    "
   ]
  },
  {
   "cell_type": "code",
   "execution_count": null,
   "id": "c9268991-e227-4e0f-854e-19ce4f5a0d0e",
   "metadata": {},
   "outputs": [],
   "source": [
    "#4Searching in a Matrix\n",
    "Write a Python program that searches for a given element in a 2D matrix and returns its position.\n",
    "Input:\n",
    "Matrix = [\n",
    "[1, 3, 5],\n",
    "[7, 9, 11],\n",
    "[13, 15, 17]\n",
    "]\n",
    "Element = 11\n",
    "\n",
    "Output:\n",
    "Element 11 found at position (1, 2)"
   ]
  },
  {
   "cell_type": "code",
   "execution_count": 4,
   "id": "c56eb9c0-163a-4ff3-8a2b-a33448b70051",
   "metadata": {
    "tags": []
   },
   "outputs": [
    {
     "name": "stdout",
     "output_type": "stream",
     "text": [
      "Element 11 found at position (1, 2)\n"
     ]
    }
   ],
   "source": [
    "def search_in_matrix(matrix, target):\n",
    "    rows = len(matrix)\n",
    "    if rows == 0:\n",
    "        return None\n",
    "\n",
    "    cols = len(matrix[0])\n",
    "    row, col = 0, cols - 1\n",
    "\n",
    "    while row < rows and col >= 0:\n",
    "        current_element = matrix[row][col]\n",
    "\n",
    "        if current_element == target:\n",
    "            return row, col\n",
    "        elif current_element > target:\n",
    "            col -= 1\n",
    "        else:\n",
    "            row += 1\n",
    "\n",
    "    return None\n",
    "\n",
    "# Example input\n",
    "matrix = [\n",
    "    [1, 3, 5],\n",
    "    [7, 9, 11],\n",
    "    [13, 15, 17]\n",
    "]\n",
    "target_element = 11\n",
    "\n",
    "# Perform the search in the matrix\n",
    "result_position = search_in_matrix(matrix, target_element)\n",
    "\n",
    "# Display the result\n",
    "if result_position:\n",
    "    print(f\"Element {target_element} found at position {result_position}\")\n",
    "else:\n",
    "    print(f\"Element {target_element} not found in the matrix\")\n"
   ]
  },
  {
   "cell_type": "code",
   "execution_count": null,
   "id": "97a51810-5b96-47f4-96d4-6dfa02c8f6d8",
   "metadata": {},
   "outputs": [],
   "source": [
    "#5Sorting Strings by Length\n",
    "Write a Python program that takes a list of strings and sorts them based on their length.\n",
    "Input:\n",
    "['apple', 'banana', 'kiwi', 'orange', 'grape']\n",
    "Output:\n",
    "['kiwi', 'grape', 'apple', 'banana', 'orange']"
   ]
  },
  {
   "cell_type": "code",
   "execution_count": 5,
   "id": "bb559b3a-32d5-437d-9d73-8dc55c855302",
   "metadata": {
    "tags": []
   },
   "outputs": [
    {
     "name": "stdout",
     "output_type": "stream",
     "text": [
      "Input Strings: ['apple', 'banana', 'kiwi', 'orange', 'grape']\n",
      "Sorted Strings by Length: ['kiwi', 'apple', 'grape', 'banana', 'orange']\n"
     ]
    }
   ],
   "source": [
    "def sort_strings_by_length(strings):\n",
    "    sorted_strings = sorted(strings, key=len)\n",
    "    return sorted_strings\n",
    "\n",
    "# Example input\n",
    "input_strings = ['apple', 'banana', 'kiwi', 'orange', 'grape']\n",
    "\n",
    "# Sort the strings based on length\n",
    "sorted_strings = sort_strings_by_length(input_strings)\n",
    "\n",
    "# Display the result\n",
    "print(\"Input Strings:\", input_strings)\n",
    "print(\"Sorted Strings by Length:\", sorted_strings)\n"
   ]
  },
  {
   "cell_type": "code",
   "execution_count": null,
   "id": "0c94d941-d75b-4605-a38a-0c21347ca523",
   "metadata": {},
   "outputs": [],
   "source": [
    "#6Implementing the merge sort ( Will be discussed in the class )"
   ]
  },
  {
   "cell_type": "code",
   "execution_count": 7,
   "id": "eacbb013-a36c-4a7f-a34d-cbc9a2361a48",
   "metadata": {
    "tags": []
   },
   "outputs": [
    {
     "name": "stdout",
     "output_type": "stream",
     "text": [
      "Original Array: [12, 11, 13, 5, 6, 7]\n",
      "Sorted Array: [5, 6, 7, 11, 12, 13]\n"
     ]
    }
   ],
   "source": [
    "def merge_sort(arr):\n",
    "    if len(arr) > 1:\n",
    "        mid = len(arr) // 2\n",
    "        left_half = arr[:mid]\n",
    "        right_half = arr[mid:]\n",
    "\n",
    "        # Recursive calls to divide the array\n",
    "        merge_sort(left_half)\n",
    "        merge_sort(right_half)\n",
    "\n",
    "        # Merge the sorted halves\n",
    "        merge(arr, left_half, right_half)\n",
    "\n",
    "def merge(arr, left, right):\n",
    "    i = j = k = 0\n",
    "\n",
    "    while i < len(left) and j < len(right):\n",
    "        if left[i] < right[j]:\n",
    "            arr[k] = left[i]\n",
    "            i += 1\n",
    "        else:\n",
    "            arr[k] = right[j]\n",
    "            j += 1\n",
    "        k += 1\n",
    "\n",
    "    # Copy the remaining elements, if any\n",
    "    while i < len(left):\n",
    "        arr[k] = left[i]\n",
    "        i += 1\n",
    "        k += 1\n",
    "\n",
    "    while j < len(right):\n",
    "        arr[k] = right[j]\n",
    "        j += 1\n",
    "        k += 1\n",
    "\n",
    "# Example usage\n",
    "if __name__ == \"__main__\":\n",
    "    input_array = [12, 11, 13, 5, 6, 7]\n",
    "    \n",
    "    print(\"Original Array:\", input_array)\n",
    "    \n",
    "    merge_sort(input_array)\n",
    "    \n",
    "    print(\"Sorted Array:\", input_array)\n"
   ]
  },
  {
   "cell_type": "code",
   "execution_count": null,
   "id": "b9f368eb-8b77-4f98-be22-8d0a17b6055e",
   "metadata": {},
   "outputs": [],
   "source": [
    "#7Implementing the quick sort ( will be discussed in the class )"
   ]
  },
  {
   "cell_type": "code",
   "execution_count": 8,
   "id": "0064ac26-96d9-4ed9-928a-8b7216be6ab2",
   "metadata": {
    "tags": []
   },
   "outputs": [
    {
     "name": "stdout",
     "output_type": "stream",
     "text": [
      "Original Array: [12, 4, 5, 6, 7, 3, 1, 15]\n",
      "Sorted Array: [1, 3, 4, 5, 6, 7, 12, 15]\n"
     ]
    }
   ],
   "source": [
    "def quick_sort(arr):\n",
    "    if len(arr) <= 1:\n",
    "        return arr\n",
    "\n",
    "    pivot = arr[len(arr) // 2]\n",
    "    left = [x for x in arr if x < pivot]\n",
    "    equal = [x for x in arr if x == pivot]\n",
    "    right = [x for x in arr if x > pivot]\n",
    "\n",
    "    return quick_sort(left) + equal + quick_sort(right)\n",
    "\n",
    "# Example usage\n",
    "if __name__ == \"__main__\":\n",
    "    input_array = [12, 4, 5, 6, 7, 3, 1, 15]\n",
    "    \n",
    "    print(\"Original Array:\", input_array)\n",
    "    \n",
    "    sorted_array = quick_sort(input_array)\n",
    "    \n",
    "    print(\"Sorted Array:\", sorted_array)\n"
   ]
  },
  {
   "cell_type": "code",
   "execution_count": null,
   "id": "e8c56323-de95-4280-bc9f-f81e821cf6e2",
   "metadata": {},
   "outputs": [],
   "source": [
    "#8Implementing the count sort ( will be discussed in the class )"
   ]
  },
  {
   "cell_type": "code",
   "execution_count": 9,
   "id": "213681da-13d6-48bb-809b-da2abb9a9de3",
   "metadata": {
    "tags": []
   },
   "outputs": [
    {
     "name": "stdout",
     "output_type": "stream",
     "text": [
      "Original Array: [4, 2, 3, 4, 1, 0, 2, 4]\n",
      "Sorted Array: [0, 1, 2, 2, 3, 4, 4, 4]\n"
     ]
    }
   ],
   "source": [
    "def counting_sort(arr):\n",
    "    max_value = max(arr)\n",
    "    min_value = min(arr)\n",
    "    range_of_elements = max_value - min_value + 1\n",
    "\n",
    "    # Create a count array to store the frequency of each element\n",
    "    count = [0] * range_of_elements\n",
    "\n",
    "    # Count the occurrences of each element in the input array\n",
    "    for num in arr:\n",
    "        count[num - min_value] += 1\n",
    "\n",
    "    # Modify the count array to store the cumulative count\n",
    "    for i in range(1, len(count)):\n",
    "        count[i] += count[i - 1]\n",
    "\n",
    "    # Create the output array\n",
    "    output = [0] * len(arr)\n",
    "\n",
    "    # Build the output array using the count array\n",
    "    for num in reversed(arr):\n",
    "        output[count[num - min_value] - 1] = num\n",
    "        count[num - min_value] -= 1\n",
    "\n",
    "    return output\n",
    "\n",
    "# Example usage\n",
    "if __name__ == \"__main__\":\n",
    "    input_array = [4, 2, 3, 4, 1, 0, 2, 4]\n",
    "    \n",
    "    print(\"Original Array:\", input_array)\n",
    "    \n",
    "    sorted_array = counting_sort(input_array)\n",
    "    \n",
    "    print(\"Sorted Array:\", sorted_array)\n"
   ]
  },
  {
   "cell_type": "code",
   "execution_count": null,
   "id": "da4d0098-0bad-4a43-bd11-3f962599ef16",
   "metadata": {},
   "outputs": [],
   "source": [
    "#9Implement a Python function to find a peak element in an array. A peak element is an element that is greater\n",
    "than or equal to its neighbors.\n",
    "Input:\n",
    "[1, 3, 20, 4, 1, 0]\n",
    "Output:\n",
    "Peak element is 20"
   ]
  },
  {
   "cell_type": "code",
   "execution_count": 10,
   "id": "f4656522-45c1-4913-ae2a-bc5376d39836",
   "metadata": {
    "tags": []
   },
   "outputs": [
    {
     "name": "stdout",
     "output_type": "stream",
     "text": [
      "Input Array: [1, 3, 20, 4, 1, 0]\n",
      "Peak element is 20\n"
     ]
    }
   ],
   "source": [
    "def find_peak_element(arr):\n",
    "    n = len(arr)\n",
    "\n",
    "    # Check the first and last elements separately\n",
    "    if n == 1:\n",
    "        return arr[0]\n",
    "    elif arr[0] >= arr[1]:\n",
    "        return arr[0]\n",
    "    elif arr[n - 1] >= arr[n - 2]:\n",
    "        return arr[n - 1]\n",
    "\n",
    "    # Check elements in the middle\n",
    "    for i in range(1, n - 1):\n",
    "        if arr[i] >= arr[i - 1] and arr[i] >= arr[i + 1]:\n",
    "            return arr[i]\n",
    "\n",
    "# Example usage\n",
    "if __name__ == \"__main__\":\n",
    "    input_array = [1, 3, 20, 4, 1, 0]\n",
    "\n",
    "    print(\"Input Array:\", input_array)\n",
    "\n",
    "    peak_element = find_peak_element(input_array)\n",
    "\n",
    "    if peak_element is not None:\n",
    "        print(\"Peak element is\", peak_element)\n",
    "    else:\n",
    "        print(\"No peak element found in the array\")\n"
   ]
  },
  {
   "cell_type": "code",
   "execution_count": null,
   "id": "79178c37-962a-401d-b194-6140a0b40858",
   "metadata": {},
   "outputs": [],
   "source": [
    "#10Search in a Nearly Sorted Array\n",
    "Implement a Python program to perform a binary search in a nearly sorted array. In a nearly sorted array, each\n",
    "element is at most k positions away from its sorted position.\n",
    "Input:\n",
    "[2, 1, 3, 4, 6, 5, 7], k = 1\n",
    "Output:\n",
    "Element 5 found at index 4"
   ]
  },
  {
   "cell_type": "code",
   "execution_count": 12,
   "id": "08ee032b-b005-4d79-90e3-ece0bdcf7fc9",
   "metadata": {
    "tags": []
   },
   "outputs": [
    {
     "name": "stdout",
     "output_type": "stream",
     "text": [
      "Input Array: [2, 1, 3, 4, 6, 5, 7]\n",
      "Target Element: 5\n",
      "k: 1\n",
      "Element 5 found at index 5\n"
     ]
    }
   ],
   "source": [
    "def binary_search_nearly_sorted(arr, target, k):\n",
    "    low, high = 0, len(arr) - 1\n",
    "\n",
    "    while low <= high:\n",
    "        mid = (low + high) // 2\n",
    "\n",
    "        if arr[mid] == target:\n",
    "            return mid\n",
    "\n",
    "        # Check in the left sub-array\n",
    "        for i in range(max(0, mid - k), min(mid + k + 1, len(arr))):\n",
    "            if arr[i] == target:\n",
    "                return i\n",
    "\n",
    "        # Adjust the search space based on the comparison with the target\n",
    "        if arr[mid] < target:\n",
    "            low = mid + 1\n",
    "        else:\n",
    "            high = mid - 1\n",
    "\n",
    "    return -1  # Element not found\n",
    "\n",
    "# Example usage\n",
    "if __name__ == \"__main__\":\n",
    "    input_array = [2, 1, 3, 4, 6, 5, 7]\n",
    "    target_element = 5\n",
    "    k_value = 1\n",
    "\n",
    "    print(\"Input Array:\", input_array)\n",
    "    print(\"Target Element:\", target_element)\n",
    "    print(\"k:\", k_value)\n",
    "\n",
    "    result_index = binary_search_nearly_sorted(input_array, target_element, k_value)\n",
    "\n",
    "    if result_index != -1:\n",
    "        print(f\"Element {target_element} found at index {result_index}\")\n",
    "    else:\n",
    "        print(f\"Element {target_element} not found in the nearly sorted array\")\n"
   ]
  }
 ],
 "metadata": {
  "kernelspec": {
   "display_name": "Python 3 (ipykernel)",
   "language": "python",
   "name": "python3"
  },
  "language_info": {
   "codemirror_mode": {
    "name": "ipython",
    "version": 3
   },
   "file_extension": ".py",
   "mimetype": "text/x-python",
   "name": "python",
   "nbconvert_exporter": "python",
   "pygments_lexer": "ipython3",
   "version": "3.11.5"
  }
 },
 "nbformat": 4,
 "nbformat_minor": 5
}
